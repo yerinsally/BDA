{
  "nbformat": 4,
  "nbformat_minor": 0,
  "metadata": {
    "colab": {
      "provenance": [],
      "authorship_tag": "ABX9TyMfyqK9M1x7nxClZwXEJvm7",
      "include_colab_link": true
    },
    "kernelspec": {
      "name": "python3",
      "display_name": "Python 3"
    },
    "language_info": {
      "name": "python"
    }
  },
  "cells": [
    {
      "cell_type": "markdown",
      "metadata": {
        "id": "view-in-github",
        "colab_type": "text"
      },
      "source": [
        "<a href=\"https://colab.research.google.com/github/yerinsally/BDA/blob/main/%EC%A0%95%EC%98%88%EB%A6%B0_0226_%EA%B3%BC%EC%A0%9C.ipynb\" target=\"_parent\"><img src=\"https://colab.research.google.com/assets/colab-badge.svg\" alt=\"Open In Colab\"/></a>"
      ]
    },
    {
      "cell_type": "markdown",
      "source": [
        "1. 위의 정규식을 이용해서 본인만의 패턴을 만들기\n",
        "- ex) 서울특별시 강남구 oo동 : 해당 동만 패턴으로 찾을 수 있는 정규식 만들기\n",
        "- 최소 10개 이상 만들기\n",
        "\n",
        "2. 이외에 추가 정규표현식 5개 이상 찾고, 개념정리 및 코드 정리 결과 설명"
      ],
      "metadata": {
        "id": "6IBgT2y-Zj95"
      }
    },
    {
      "cell_type": "markdown",
      "source": [
        "## 정규표현식이란?\n",
        "- 특정한 규칙, 패턴을 가진 문자열을 표현\n",
        "- 특정 패턴을 지닌 문자열을 찾는 데 많이 쓰임\n",
        "- 파이썬 : 're' 모듈을 기본 라이브러리로 제공\n",
        "  - re 모듈 안의 함수 : compile과 match, search, findall 등\n",
        "  - 정규표현식을 컴파일한 결과를 객체로 돌려주고, 정규표현식으로 찾고자 하는 문자열이 해당 문자열 속에 있는지 찾는 과정을 거침"
      ],
      "metadata": {
        "id": "sb3GOyPLiduv"
      }
    },
    {
      "cell_type": "markdown",
      "source": [
        "### re 함수\n",
        "- re.compile(pattern, flags=0) : 정규식 객체로 compile함, 정규식 객체는 match()와 search()에 사용\n",
        "- re.search(pattern, string, flags=0) : string을 스캔하여 정규식 pattern이 일치하는 첫번째 위치를 찾고, 객체를 반환, 일치하는 결과가 없으면 None으로 반환\n",
        "- re.match(pattern, string, flags=0) : string이 시작 부분에서 0개 이상의 문자가 pattern과 일치하면, 일치 객체를 반환\n",
        "- re.fullmatch(pattern, string, flags=0) : '전체' string이 정규식 pattern과 일치하면 객체를 반환\n",
        "- re.split(pattern, string, maxsplit=0, flags=0) : string을 pattern으로 분리\n",
        "- re.findall(pattern, string, flags=0) : string에서 겹치지 않는 pattern의 모든 일치를 문자열 리스트로 반환\n",
        "- re.finditer(pattern, string, flags=0) : string에서 겹치지 않는 RE pattern의 모든 일치를 일치 객체를 산출하는 iterator로 반환\n",
        "- re.sub(pattern, repl, string, count=0, flags=0) : string에서 겹치지 않는 pattern의 가장 왼쪽 일치를 repl로 치환하여 얻은 문자열을 반환\n",
        "- re.subn(pattern, repl, string, count=0, flags=0) : re.sub() 동일하지만, (new_string, number of_subs_made)형태로 반환\n",
        "- re.escape(pattern) : pattern에서 특수 문자를 이스케이프 처리\n",
        "- re.purge() : 정규식 cache를 삭제"
      ],
      "metadata": {
        "id": "954nXqEhjyxR"
      }
    },
    {
      "cell_type": "markdown",
      "source": [
        "### 정규표현식\n",
        "- [0-9] : 숫자를 찾음\n",
        "- [^0-9] : ^는 not을 의미. 즉 not [0-9] 이며, 숫자가 아닌 것을 찾음\n",
        "- [ \\t\\n\\r\\f\\v] : 제어 문자(개행 문자, 탭 문자, 스페이스) 문자인 것을 찾음\n",
        "- [^ \\t\\n\\r\\f\\v] : 제어 문자가 '아닌' 경우\n",
        "- [A-Za-z0-9] : 문자, 숫자를 찾음\n",
        "- [^A-Za-z0-9] : 문자, 숫자가 '아닌' 것을 찾음\n",
        "- dot : 개행 문자를 제외한 문자를 찾음.  [^\\n\\r]과 동일한 의미\n",
        "- [ABC] : 특정 문자(ABC)를 찾음\n",
        "- 반복 ? : 앞 문자가 0번 또는 1번 표시되는 패턴\n",
        "- 반복 * : 앞 문자가 0번 또는 그 이상 반복되는 패턴\n",
        "- 반복 + : 앞 문자가 1번 또는 그 이상 반복되는 패턴\n",
        "- 반복 $ : 문자열의 끝이나 문자열 끝의 개행 문자 바로 직전과 일치하고, MULTILINE 모드에서는 개행 문자 앞에서도 일치\n",
        "- \\\t: 특수 문자를 이스케이프 하거나 ('*', '?' 등의 문자를 일치시킬 수 있도록 함), 특수 시퀀스를 알림\n",
        "- {n} : 앞 문자가 n번 반복되는 패턴\n",
        "- {m,n} : 앞 문자가 m번 반복되는 패턴부터 n번 반복되는 패턴"
      ],
      "metadata": {
        "id": "KTPLUtKpksWh"
      }
    },
    {
      "cell_type": "code",
      "source": [
        "import re"
      ],
      "metadata": {
        "id": "jZLYIAqum78-"
      },
      "execution_count": 2,
      "outputs": []
    },
    {
      "cell_type": "code",
      "execution_count": 4,
      "metadata": {
        "colab": {
          "base_uri": "https://localhost:8080/"
        },
        "id": "Xe8DVIbSZbYK",
        "outputId": "c2042eb6-9224-4d06-ddd4-62c802f1a5f1"
      },
      "outputs": [
        {
          "output_type": "stream",
          "name": "stdout",
          "text": [
            "<re.Match object; span=(0, 13), match='2021년 12월 29일'>\n"
          ]
        }
      ],
      "source": [
        "pattern = \"([0-9]+년)\\s*([0-9]+월)\\s*([0-9]+일)\"\n",
        "a = re.search(pattern, \"2021년 12월 29일 입니다. 내일은 2021년 12월 30일 이에요.\")\n",
        "print(a)"
      ]
    },
    {
      "cell_type": "code",
      "source": [
        "# 인식패턴 시작 index\n",
        "a.start()"
      ],
      "metadata": {
        "colab": {
          "base_uri": "https://localhost:8080/"
        },
        "id": "rBCxMwWynCCz",
        "outputId": "b99ced5d-3f3f-4e80-c65e-256935fbac37"
      },
      "execution_count": 6,
      "outputs": [
        {
          "output_type": "execute_result",
          "data": {
            "text/plain": [
              "0"
            ]
          },
          "metadata": {},
          "execution_count": 6
        }
      ]
    },
    {
      "cell_type": "code",
      "source": [
        "# 인식패턴 끝 index\n",
        "a.end()"
      ],
      "metadata": {
        "colab": {
          "base_uri": "https://localhost:8080/"
        },
        "id": "Dvy7RqIjnS31",
        "outputId": "3c177b2c-ed1d-41f3-c548-662c3e31fd9f"
      },
      "execution_count": 7,
      "outputs": [
        {
          "output_type": "execute_result",
          "data": {
            "text/plain": [
              "13"
            ]
          },
          "metadata": {},
          "execution_count": 7
        }
      ]
    },
    {
      "cell_type": "code",
      "source": [
        "# 인식패턴 문자열 출력\n",
        "a.group()"
      ],
      "metadata": {
        "colab": {
          "base_uri": "https://localhost:8080/",
          "height": 35
        },
        "id": "CuXRLEcZnWOd",
        "outputId": "a652a664-9282-4684-b99e-6e6f8a1b3f15"
      },
      "execution_count": 8,
      "outputs": [
        {
          "output_type": "execute_result",
          "data": {
            "text/plain": [
              "'2021년 12월 29일'"
            ],
            "application/vnd.google.colaboratory.intrinsic+json": {
              "type": "string"
            }
          },
          "metadata": {},
          "execution_count": 8
        }
      ]
    },
    {
      "cell_type": "code",
      "source": [
        "# 그 외 부분적으로 인식된 패턴들 모음\n",
        "a.groups()"
      ],
      "metadata": {
        "colab": {
          "base_uri": "https://localhost:8080/"
        },
        "id": "l3QW4536nYGm",
        "outputId": "ddb50c45-366b-42d4-af87-5956ff902639"
      },
      "execution_count": 9,
      "outputs": [
        {
          "output_type": "execute_result",
          "data": {
            "text/plain": [
              "('2021년', '12월', '29일')"
            ]
          },
          "metadata": {},
          "execution_count": 9
        }
      ]
    },
    {
      "cell_type": "markdown",
      "source": [
        "re 는 전체 패턴에 대한 인식 결과물 외에도 부분적인 패턴 일치 결과물들도 저장해두는 걸 알 수 있다. 부분 일치 결과물들도 활용이 가능!"
      ],
      "metadata": {
        "id": "i1DdCEr5ndHh"
      }
    },
    {
      "cell_type": "code",
      "source": [
        "a.group()   # '2021년 12월 29일'\n",
        "a.group(0)  # '2021년 12월 29일'\n",
        "a.group(1)  # '2021년'\n",
        "a.group(2)  # '12월'\n",
        "a.group(3)  # '29일'"
      ],
      "metadata": {
        "colab": {
          "base_uri": "https://localhost:8080/",
          "height": 35
        },
        "id": "zR-ST4DvnYtB",
        "outputId": "69f97c89-8ee1-42cc-8d15-1a999cbea530"
      },
      "execution_count": 10,
      "outputs": [
        {
          "output_type": "execute_result",
          "data": {
            "text/plain": [
              "'29일'"
            ],
            "application/vnd.google.colaboratory.intrinsic+json": {
              "type": "string"
            }
          },
          "metadata": {},
          "execution_count": 10
        }
      ]
    },
    {
      "cell_type": "code",
      "source": [
        "re.match(\"c\", \"abcdef\")  # 아무것도 반환하지 않음"
      ],
      "metadata": {
        "id": "l0iiF63_noJA"
      },
      "execution_count": 11,
      "outputs": []
    },
    {
      "cell_type": "code",
      "source": [
        "re.match(\"c\", \"cdef\")"
      ],
      "metadata": {
        "colab": {
          "base_uri": "https://localhost:8080/"
        },
        "id": "F90a1VuNnxzR",
        "outputId": "edfdc1dc-55c7-4728-e4c5-8f78e0846611"
      },
      "execution_count": 12,
      "outputs": [
        {
          "output_type": "execute_result",
          "data": {
            "text/plain": [
              "<re.Match object; span=(0, 1), match='c'>"
            ]
          },
          "metadata": {},
          "execution_count": 12
        }
      ]
    },
    {
      "cell_type": "code",
      "source": [
        "pattern = \"[0-9]\"\n",
        "a = re.split(pattern, \"오늘은 29일 이에요\")\n",
        "a"
      ],
      "metadata": {
        "colab": {
          "base_uri": "https://localhost:8080/"
        },
        "id": "IZCIP36gnzGU",
        "outputId": "5da79c64-fe66-463d-9b13-e6f06b6d8376"
      },
      "execution_count": 13,
      "outputs": [
        {
          "output_type": "execute_result",
          "data": {
            "text/plain": [
              "['오늘은 ', '', '일 이에요']"
            ]
          },
          "metadata": {},
          "execution_count": 13
        }
      ]
    },
    {
      "cell_type": "code",
      "source": [
        "pattern = \"[0-9]\"\n",
        "b = re.sub(pattern, \"a\", \"오늘은 29일 이에요\")\n",
        "b"
      ],
      "metadata": {
        "colab": {
          "base_uri": "https://localhost:8080/",
          "height": 35
        },
        "id": "eOt3B7p_n6v8",
        "outputId": "680302aa-2c6b-4c62-e21a-908d0bef4895"
      },
      "execution_count": 14,
      "outputs": [
        {
          "output_type": "execute_result",
          "data": {
            "text/plain": [
              "'오늘은 aa일 이에요'"
            ],
            "application/vnd.google.colaboratory.intrinsic+json": {
              "type": "string"
            }
          },
          "metadata": {},
          "execution_count": 14
        }
      ]
    },
    {
      "cell_type": "code",
      "source": [
        "prog = re.compile(pattern)\n",
        "a = prog.search(\"2021년 12월 29일 입니다.\")\n",
        "a"
      ],
      "metadata": {
        "colab": {
          "base_uri": "https://localhost:8080/"
        },
        "id": "fsfrSxn7n_kt",
        "outputId": "7233aab5-4365-4137-b23d-39eb69053c43"
      },
      "execution_count": 15,
      "outputs": [
        {
          "output_type": "execute_result",
          "data": {
            "text/plain": [
              "<re.Match object; span=(0, 1), match='2'>"
            ]
          },
          "metadata": {},
          "execution_count": 15
        }
      ]
    },
    {
      "cell_type": "markdown",
      "source": [
        "## 예제"
      ],
      "metadata": {
        "id": "cm0U4BbgpIN9"
      }
    },
    {
      "cell_type": "code",
      "source": [
        "s = 'hello-world-123-good-984'\n",
        "m = re.findall('[a-zA-Z]+',s)\n",
        "print(m)"
      ],
      "metadata": {
        "colab": {
          "base_uri": "https://localhost:8080/"
        },
        "id": "kC_0wSbSpJvg",
        "outputId": "7817920f-1e54-4b93-b0a9-4002a31b50e6"
      },
      "execution_count": 16,
      "outputs": [
        {
          "output_type": "stream",
          "name": "stdout",
          "text": [
            "['hello', 'world', 'good']\n"
          ]
        }
      ]
    },
    {
      "cell_type": "code",
      "source": [
        "s = '0aaa5'\n",
        "m = re.search('a{3,4}', s) # a{3,4} = 범위를 나타내는 정규식 (a가 3번이상, 4번이하면 맞는 패턴)\n",
        "print(m.group())"
      ],
      "metadata": {
        "colab": {
          "base_uri": "https://localhost:8080/"
        },
        "id": "yxyVJVDUpW04",
        "outputId": "7b13e900-127a-4ff7-cb6e-4b7ee2bb5802"
      },
      "execution_count": 17,
      "outputs": [
        {
          "output_type": "stream",
          "name": "stdout",
          "text": [
            "aaa\n"
          ]
        }
      ]
    },
    {
      "cell_type": "code",
      "source": [
        "s1 = '휴대전화에요.010-1234-9001'\n",
        "m1 = re.search('[0-9]{2,3}-[0-9]{4}-[0-9]{4}', s1) # [0-9]{2,3} = 숫자(0~9)가 2개이상 3개이하\n",
        "print(m1.group())"
      ],
      "metadata": {
        "colab": {
          "base_uri": "https://localhost:8080/"
        },
        "id": "jezGCZLPppqd",
        "outputId": "7529087b-ea8e-41dc-edb2-4de25f6158ad"
      },
      "execution_count": 20,
      "outputs": [
        {
          "output_type": "stream",
          "name": "stdout",
          "text": [
            "010-1234-9001\n"
          ]
        }
      ]
    },
    {
      "cell_type": "code",
      "source": [
        "s2 = '중국집이에요.02-2940-7001'\n",
        "m2 = re.search('[0-9]{2,3}-[0-9]{4}-[0-9]{4}', s2)\n",
        "print(m2.group())"
      ],
      "metadata": {
        "colab": {
          "base_uri": "https://localhost:8080/"
        },
        "id": "FeKLtj_LpymS",
        "outputId": "c0d256b5-3835-44f0-f499-3b221133259a"
      },
      "execution_count": 19,
      "outputs": [
        {
          "output_type": "stream",
          "name": "stdout",
          "text": [
            "02-2940-7001\n"
          ]
        }
      ]
    },
    {
      "cell_type": "code",
      "source": [
        "# ^ : 시작 문자가 일치하는 경우 찾기\n",
        "s = '안녕하세요. 좋은 아침이에요'\n",
        "m = re.search('^안녕', s)\n",
        "print(m.group())"
      ],
      "metadata": {
        "colab": {
          "base_uri": "https://localhost:8080/"
        },
        "id": "iXAAymaspzjE",
        "outputId": "384974b8-2b95-4968-d9e9-1d1167cfcda5"
      },
      "execution_count": 22,
      "outputs": [
        {
          "output_type": "stream",
          "name": "stdout",
          "text": [
            "안녕\n"
          ]
        }
      ]
    },
    {
      "cell_type": "code",
      "source": [
        "s = '좋은 아침이에요.안녕하세요'\n",
        "m = re.search('^안녕', s)\n",
        "print(m)"
      ],
      "metadata": {
        "colab": {
          "base_uri": "https://localhost:8080/"
        },
        "id": "3keRG87TqOyB",
        "outputId": "fdf05386-cd9d-4ce9-80cc-3d32493d4696"
      },
      "execution_count": 23,
      "outputs": [
        {
          "output_type": "stream",
          "name": "stdout",
          "text": [
            "None\n"
          ]
        }
      ]
    },
    {
      "cell_type": "code",
      "source": [
        "# $ : 마지막 문자가 일치하는 문자열 찾기\n",
        "s = '지금은 즐겁게 있어요'\n",
        "m = re.search('[ㄱ-힣]+요$', s)\n",
        "print(m.group())"
      ],
      "metadata": {
        "colab": {
          "base_uri": "https://localhost:8080/"
        },
        "id": "3xag2FUzqnA7",
        "outputId": "a813b681-85b2-4396-be7b-12a3b8ea2ae8"
      },
      "execution_count": 24,
      "outputs": [
        {
          "output_type": "stream",
          "name": "stdout",
          "text": [
            "있어요\n"
          ]
        }
      ]
    },
    {
      "cell_type": "code",
      "source": [
        "# | : 여러개 조건 만족하는 패턴 찾기\n",
        "s = 'There is a crow and bird'\n",
        "m = re.findall('cro*w|bir+d', s) # | 앞뒤로 정규식이 2개\n",
        "print(m)"
      ],
      "metadata": {
        "colab": {
          "base_uri": "https://localhost:8080/"
        },
        "id": "ROlZx0IPqvgC",
        "outputId": "d762c41e-af63-414e-f847-1c5773fdb850"
      },
      "execution_count": 25,
      "outputs": [
        {
          "output_type": "stream",
          "name": "stdout",
          "text": [
            "['crow', 'bird']\n"
          ]
        }
      ]
    },
    {
      "cell_type": "code",
      "source": [
        "# () : 그룹으로 묶기\n",
        "s = '안녕하세요. 새해 복 많이 받으세요. 글은 2021-01-06에 썼어요'\n",
        "m = re.search('([0-9]{4})-([0-9]{2})-([0-9]{2})', s) # ()로 세번 묶어줌\n",
        "print(m.group(0))\n",
        "print(m.group(1))\n",
        "print(m.group(2))"
      ],
      "metadata": {
        "colab": {
          "base_uri": "https://localhost:8080/"
        },
        "id": "9Ta452sWrCqT",
        "outputId": "8e8296d1-8b39-4f71-a007-dd22719e0cac"
      },
      "execution_count": 27,
      "outputs": [
        {
          "output_type": "stream",
          "name": "stdout",
          "text": [
            "2021-01-06\n",
            "2021\n",
            "01\n"
          ]
        }
      ]
    },
    {
      "cell_type": "code",
      "source": [
        "# 메타문자(.?$)들을 원래 문자로 사용하기\n",
        "s = '오늘은 안녕하세요.안녕하세요?'\n",
        "m1 = re.search('안녕하세요\\?', s)\n",
        "print(m1.span()) # span은 일치하는 범위를 말함\n",
        "print(m1.group())\n",
        "\n",
        "m2 = re.search('안녕하세요?', s)\n",
        "print(m2.span())"
      ],
      "metadata": {
        "colab": {
          "base_uri": "https://localhost:8080/"
        },
        "id": "lVgzrA1-rPSr",
        "outputId": "88bd597f-27fc-49a3-8584-4dbc6052091b"
      },
      "execution_count": 28,
      "outputs": [
        {
          "output_type": "stream",
          "name": "stdout",
          "text": [
            "(10, 16)\n",
            "안녕하세요?\n",
            "(4, 9)\n"
          ]
        }
      ]
    },
    {
      "cell_type": "markdown",
      "source": [
        "### 이메일 패턴"
      ],
      "metadata": {
        "id": "DfRDNZdgsuUb"
      }
    },
    {
      "cell_type": "code",
      "source": [
        "# 이메일 찾기\n",
        "s = 'Ryan has sent an invoice email to john.d@yahoo.com by using his email id ryan.arjun@gmail.com and he also shared a copy to his boss rosy.gray@amazon.co.uk on the cc part.'\n",
        "m = re.findall(r'[\\w\\.-]+@[\\w\\.-]+', s)\n",
        "print(m)"
      ],
      "metadata": {
        "colab": {
          "base_uri": "https://localhost:8080/"
        },
        "id": "adSzV-0Trkz7",
        "outputId": "f7610ebb-6858-4f60-ca38-642c80976b26"
      },
      "execution_count": 29,
      "outputs": [
        {
          "output_type": "stream",
          "name": "stdout",
          "text": [
            "['john.d@yahoo.com', 'ryan.arjun@gmail.com', 'rosy.gray@amazon.co.uk']\n"
          ]
        }
      ]
    },
    {
      "cell_type": "code",
      "source": [
        "# 맞는 이메일인지 확인하기\n",
        "\n",
        "def valid_email(email):\n",
        "    regex = r'^[a-z0-9]+[\\._]?[a-z0-9]+[@]\\w+[.]\\w+[.]?\\w{2,3}$'\n",
        "    valid = re.search(regex, email)\n",
        "\n",
        "    if valid:\n",
        "        print('valid email')\n",
        "    else:\n",
        "        print('invalid email')\n",
        "\n",
        "    return valid\n",
        "\n",
        "email = \"mysite.com\"\n",
        "valid_email(email) # 제대로 된 이메일이 아님​"
      ],
      "metadata": {
        "colab": {
          "base_uri": "https://localhost:8080/"
        },
        "id": "JWMxkiSvrzgc",
        "outputId": "cb37e638-bc11-4419-9253-ef3c93d793a2"
      },
      "execution_count": 33,
      "outputs": [
        {
          "output_type": "stream",
          "name": "stdout",
          "text": [
            "invalid email\n"
          ]
        }
      ]
    },
    {
      "cell_type": "code",
      "source": [
        "email = \"mike@korea.co.kr\"\n",
        "valid_email(email) # 제대로 된 이메일"
      ],
      "metadata": {
        "colab": {
          "base_uri": "https://localhost:8080/"
        },
        "id": "6TYx2Nl8saKK",
        "outputId": "b984e05c-9cb3-45a2-b28d-c20dca528195"
      },
      "execution_count": 34,
      "outputs": [
        {
          "output_type": "stream",
          "name": "stdout",
          "text": [
            "valid email\n"
          ]
        },
        {
          "output_type": "execute_result",
          "data": {
            "text/plain": [
              "<re.Match object; span=(0, 16), match='mike@korea.co.kr'>"
            ]
          },
          "metadata": {},
          "execution_count": 34
        }
      ]
    },
    {
      "cell_type": "code",
      "source": [
        "email = \"mike@daum.net\"\n",
        "valid_email(email) # 제대로 된 이메일"
      ],
      "metadata": {
        "colab": {
          "base_uri": "https://localhost:8080/"
        },
        "id": "pwxUfWTcsmZn",
        "outputId": "cd952b29-e3e8-4837-cbd3-d0d0f73f5c9f"
      },
      "execution_count": 35,
      "outputs": [
        {
          "output_type": "stream",
          "name": "stdout",
          "text": [
            "valid email\n"
          ]
        },
        {
          "output_type": "execute_result",
          "data": {
            "text/plain": [
              "<re.Match object; span=(0, 13), match='mike@daum.net'>"
            ]
          },
          "metadata": {},
          "execution_count": 35
        }
      ]
    },
    {
      "cell_type": "code",
      "source": [
        "email = \"mike@good\"\n",
        "valid_email(email) # 제대로 된 이메일이 아님"
      ],
      "metadata": {
        "colab": {
          "base_uri": "https://localhost:8080/"
        },
        "id": "22cuyd4aspGB",
        "outputId": "39243d52-b708-4165-ebb8-bee6186b11f2"
      },
      "execution_count": 36,
      "outputs": [
        {
          "output_type": "stream",
          "name": "stdout",
          "text": [
            "invalid email\n"
          ]
        }
      ]
    }
  ]
}