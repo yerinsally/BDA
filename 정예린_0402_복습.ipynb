{
  "cells": [
    {
      "cell_type": "markdown",
      "metadata": {
        "id": "view-in-github",
        "colab_type": "text"
      },
      "source": [
        "<a href=\"https://colab.research.google.com/github/yerinsally/BDA/blob/main/%EC%A0%95%EC%98%88%EB%A6%B0_0402_%EB%B3%B5%EC%8A%B5.ipynb\" target=\"_parent\"><img src=\"https://colab.research.google.com/assets/colab-badge.svg\" alt=\"Open In Colab\"/></a>"
      ]
    },
    {
      "cell_type": "code",
      "execution_count": null,
      "metadata": {
        "id": "i2GXGOCIX6Vm"
      },
      "outputs": [],
      "source": [
        "from sklearn.datasets import load_iris\n",
        "from sklearn.tree import DecisionTreeClassifier\n",
        "from sklearn.model_selection import train_test_split\n",
        "from sklearn.metrics import accuracy_score, precision_score, recall_score\n",
        "from sklearn.model_selection import KFold\n",
        "from sklearn.metrics import classification_report\n",
        "import numpy as np\n",
        "import pandas as pd"
      ]
    },
    {
      "cell_type": "markdown",
      "metadata": {
        "id": "Kjf4D3ROX6Vn"
      },
      "source": [
        "## 교차검증 \n",
        "- train/test로 나누면 과적합이 발생할 확률이 높다. (overfitting)\n",
        "- 모델을 학습시에 학습 데이터에 너무 과도하게 최적화 된다.-> 실제로 test 데이터로 수행할 때 예측 성능이 과도하게 떨어진다.\n",
        "- train 정확도 높고 test 정확도가 낮은 것을 피하기 위해서 교차검증을 진행\n",
        "- train, test 데이터 외에 검증 valid 데이터를 나눈다.\n"
      ]
    },
    {
      "cell_type": "code",
      "execution_count": null,
      "metadata": {
        "id": "fZoAX-EEX6Vo",
        "outputId": "74eba3e0-c77c-4b62-9bae-a3f3a52c4701",
        "colab": {
          "base_uri": "https://localhost:8080/"
        }
      },
      "outputs": [
        {
          "output_type": "stream",
          "name": "stdout",
          "text": [
            "[0 0 0 0 0 0 0 0 0 0 0 0 0 0 0 0 0 0 0 0 0 0 0 0 0 0 0 0 0 0 0 0 0 0 0 0 0\n",
            " 0 0 0 0 0 0 0 0 0 0 0 0 0 1 1 1 1 1 1 1 1 1 1 1 1 1 1 1 1 1 1 1 1 1 1 1 1\n",
            " 1 1 1 1 1 1 1 1 1 1 1 1 1 1 1 1 1 1 1 1 1 1 1 1 1 1 2 2 2 2 2 2 2 2 2 2 2\n",
            " 2 2 2 2 2 2 2 2 2 2 2 2 2 2 2 2 2 2 2 2 2 2 2 2 2 2 2 2 2 2 2 2 2 2 2 2 2\n",
            " 2 2]\n"
          ]
        }
      ],
      "source": [
        "fold_iris = load_iris()\n",
        "features = fold_iris.data\n",
        "label = fold_iris.target\n",
        "fold_df_clf = DecisionTreeClassifier()\n",
        "print(label)"
      ]
    },
    {
      "cell_type": "markdown",
      "metadata": {
        "id": "yfbqg82BX6Vr"
      },
      "source": [
        "- 교차검증 진행 : kfold, skfold, cross_val_score, cross_validate\n",
        "- kfold : train 데이터를 k번 폴드로 나눠서 세트별로 검증 진행"
      ]
    },
    {
      "cell_type": "code",
      "execution_count": null,
      "metadata": {
        "id": "sGZL6WHhX6Vr"
      },
      "outputs": [],
      "source": [
        "kfold = KFold(n_splits= 5)\n",
        "# 모델링을 통해서 결과 값 확인"
      ]
    },
    {
      "cell_type": "code",
      "execution_count": null,
      "metadata": {
        "id": "8Cogrd_QX6Vr",
        "outputId": "310c5738-c772-42ef-bf4f-6d46bdb16cba",
        "colab": {
          "base_uri": "https://localhost:8080/"
        }
      },
      "outputs": [
        {
          "output_type": "execute_result",
          "data": {
            "text/plain": [
              "<generator object _BaseKFold.split at 0x7f430d945430>"
            ]
          },
          "metadata": {},
          "execution_count": 23
        }
      ],
      "source": [
        "kfold.split(features)"
      ]
    },
    {
      "cell_type": "code",
      "source": [
        "n_iter = 0 # 5번 진행\n",
        "cv_accuracy = []\n",
        "cv_precision = []\n",
        "cv_recall = []\n",
        "\n",
        "for train_idx, test_idx in kfold.split(features):\n",
        "    X_train, X_test = features[train_idx], features[test_idx]\n",
        "    y_train, y_test = label[train_idx], label[test_idx]\n",
        "    # 학습 진행\n",
        "    fold_df_clf.fit(X_train, y_train)\n",
        "    # 예측값 도출\n",
        "    fold_pred = fold_df_clf.predict(X_test)\n",
        "    # 정확도 도출\n",
        "    n_iter +=1 \n",
        "    accuracy = np.round(accuracy_score(y_test, fold_pred), 4)\n",
        "    precision = precision_score(y_test, fold_pred)\n",
        "    recall = np.round(recall_score(y_test, fold_pred), 4)\n",
        "    print('\\n{} 교차검증정확도 : {}, 교차검증 precision {}, 교차검증 recall {}'.format(n_iter, accuracy, precision, recall))\n",
        "    cv_accuracy.append(accuracy)\n",
        "    cv_precision.append(precision)\n",
        "    cv_recall.append(recall)\n",
        "\n",
        "mean_accuracy = sum(cv_accuracy) / len(cv_accuracy)\n",
        "print(mean_accuracy, '평균정확도!')"
      ],
      "metadata": {
        "id": "rPueURA-2ZQZ",
        "outputId": "11adc6a4-dee8-4b07-c3d5-90629b06e21a",
        "colab": {
          "base_uri": "https://localhost:8080/"
        }
      },
      "execution_count": null,
      "outputs": [
        {
          "output_type": "stream",
          "name": "stdout",
          "text": [
            "\n",
            "1 교차검증정확도 : 1.0, 교차검증 precision 0.0, 교차검증 recall 0.0\n",
            "\n",
            "2 교차검증정확도 : 1.0, 교차검증 precision 1.0, 교차검증 recall 1.0\n",
            "\n",
            "3 교차검증정확도 : 0.8333, 교차검증 precision 1.0, 교차검증 recall 0.8333\n",
            "\n",
            "4 교차검증정확도 : 0.9333, 교차검증 precision 0.8333333333333334, 교차검증 recall 1.0\n",
            "\n",
            "5 교차검증정확도 : 0.7333, 교차검증 precision 0.0, 교차검증 recall 0.0\n",
            "0.89998 평균정확도!\n"
          ]
        },
        {
          "output_type": "stream",
          "name": "stderr",
          "text": [
            "/usr/local/lib/python3.9/dist-packages/sklearn/metrics/_classification.py:1344: UndefinedMetricWarning: Precision is ill-defined and being set to 0.0 due to no predicted samples. Use `zero_division` parameter to control this behavior.\n",
            "  _warn_prf(average, modifier, msg_start, len(result))\n",
            "/usr/local/lib/python3.9/dist-packages/sklearn/metrics/_classification.py:1344: UndefinedMetricWarning: Recall is ill-defined and being set to 0.0 due to no true samples. Use `zero_division` parameter to control this behavior.\n",
            "  _warn_prf(average, modifier, msg_start, len(result))\n",
            "/usr/local/lib/python3.9/dist-packages/sklearn/metrics/_classification.py:1344: UndefinedMetricWarning: Recall is ill-defined and being set to 0.0 due to no true samples. Use `zero_division` parameter to control this behavior.\n",
            "  _warn_prf(average, modifier, msg_start, len(result))\n"
          ]
        }
      ]
    },
    {
      "cell_type": "markdown",
      "metadata": {
        "id": "_-kxrTYeX6Vs"
      },
      "source": [
        "- 이진분류가 아니라 다중뷴류임"
      ]
    },
    {
      "cell_type": "code",
      "execution_count": null,
      "metadata": {
        "id": "tYeCp7PaX6Vs",
        "outputId": "14c5167d-b2cc-4ed0-b58d-8145bb209d7c",
        "colab": {
          "base_uri": "https://localhost:8080/"
        }
      },
      "outputs": [
        {
          "output_type": "execute_result",
          "data": {
            "text/plain": [
              "0    50\n",
              "1    50\n",
              "2    50\n",
              "Name: target, dtype: int64"
            ]
          },
          "metadata": {},
          "execution_count": 27
        }
      ],
      "source": [
        "# kfold는 클래스에 대한 불균형으로 학습시킨다\n",
        "kfold_iris_data = load_iris()\n",
        "kfold_iris_data_df = pd.DataFrame(data=kfold_iris_data.data, columns =kfold_iris_data.feature_names)\n",
        "kfold_iris_data_df['target']= kfold_iris_data.target\n",
        "kfold_iris_data_df.target.value_counts()"
      ]
    },
    {
      "cell_type": "markdown",
      "metadata": {
        "id": "_lxbjtDlX6Vt"
      },
      "source": [
        "- kfold는 정답 클래스가 불균형하고 이진 분류가 아닌 경우는 문제가 될 수 있다.\n",
        "- 교차검증을 진행할 때 내가 예측할 class와 해당 y값의 분포를 꼭 확인해야 한다."
      ]
    },
    {
      "cell_type": "code",
      "execution_count": null,
      "metadata": {
        "id": "HRYf9zCzX6Vt",
        "outputId": "17d1528d-65fd-497d-c03e-32bbe4950d27",
        "colab": {
          "base_uri": "https://localhost:8080/"
        }
      },
      "outputs": [
        {
          "output_type": "execute_result",
          "data": {
            "text/plain": [
              "<generator object _BaseKFold.split at 0x7f430d931c80>"
            ]
          },
          "metadata": {},
          "execution_count": 28
        }
      ],
      "source": [
        "kfold_re = KFold(n_splits= 3)\n",
        "kfold_re.split(kfold_iris_data_df)"
      ]
    },
    {
      "cell_type": "code",
      "execution_count": null,
      "metadata": {
        "id": "snwohCyQX6Vt",
        "outputId": "f84d3c59-e146-4d4f-e5b2-75854c84e190",
        "colab": {
          "base_uri": "https://localhost:8080/"
        }
      },
      "outputs": [
        {
          "output_type": "stream",
          "name": "stdout",
          "text": [
            "교차검증 수 :1\n",
            "1    50\n",
            "2    50\n",
            "0    20\n",
            "Name: target, dtype: int64\n",
            "0    30\n",
            "Name: target, dtype: int64\n",
            "교차검증 수 :2\n",
            "2    50\n",
            "1    40\n",
            "0    30\n",
            "Name: target, dtype: int64\n",
            "0    20\n",
            "1    10\n",
            "Name: target, dtype: int64\n",
            "교차검증 수 :3\n",
            "0    50\n",
            "2    50\n",
            "1    20\n",
            "Name: target, dtype: int64\n",
            "1    30\n",
            "Name: target, dtype: int64\n",
            "교차검증 수 :4\n",
            "0    50\n",
            "1    40\n",
            "2    30\n",
            "Name: target, dtype: int64\n",
            "2    20\n",
            "1    10\n",
            "Name: target, dtype: int64\n",
            "교차검증 수 :5\n",
            "0    50\n",
            "1    50\n",
            "2    20\n",
            "Name: target, dtype: int64\n",
            "2    30\n",
            "Name: target, dtype: int64\n"
          ]
        }
      ],
      "source": [
        "n_iter = 0\n",
        "\n",
        "for train_idx, test_idx in kfold.split(kfold_iris_data_df):\n",
        "    n_iter+=1\n",
        "    train =kfold_iris_data_df['target'].iloc[train_idx]\n",
        "    test = kfold_iris_data_df['target'].iloc[test_idx]\n",
        "    print('교차검증 수 :{}'.format(n_iter))\n",
        "    print(train.value_counts())\n",
        "    print(test.value_counts())"
      ]
    },
    {
      "cell_type": "markdown",
      "metadata": {
        "id": "xahSikSpX6Vu"
      },
      "source": [
        "- 클래스의 불균형으로 인해서 kfold는 위험할 수 있다.\n",
        "- 분류문제에서 다중으로 분류하는 경우와 클래스의 분포가 불균형인 경우도 kfold 사용하면 위험하다.\n",
        "- 회귀문제 예측하는 문제들은 상관없다. "
      ]
    },
    {
      "cell_type": "markdown",
      "metadata": {
        "id": "cVcqnDM6X6Vu"
      },
      "source": [
        "### Stratified Kfold\n",
        "- 다중 분류와 클래스에 대한 불균형을 해결하기 위해서 사용"
      ]
    },
    {
      "cell_type": "code",
      "execution_count": null,
      "metadata": {
        "id": "L0JyS4T_X6Vu"
      },
      "outputs": [],
      "source": [
        "from sklearn.model_selection import StratifiedKFold\n",
        "skf_iris= StratifiedKFold(n_splits=3)"
      ]
    },
    {
      "cell_type": "code",
      "execution_count": null,
      "metadata": {
        "id": "5yoHAXAfX6Vv",
        "outputId": "9d6fc672-a2b6-4368-ff2b-4ca1d6f78849",
        "colab": {
          "base_uri": "https://localhost:8080/"
        }
      },
      "outputs": [
        {
          "output_type": "stream",
          "name": "stdout",
          "text": [
            "교차검증 수 :1\n",
            "2    34\n",
            "0    33\n",
            "1    33\n",
            "Name: target, dtype: int64\n",
            "0    17\n",
            "1    17\n",
            "2    16\n",
            "Name: target, dtype: int64\n",
            "교차검증 수 :2\n",
            "1    34\n",
            "0    33\n",
            "2    33\n",
            "Name: target, dtype: int64\n",
            "0    17\n",
            "2    17\n",
            "1    16\n",
            "Name: target, dtype: int64\n",
            "교차검증 수 :3\n",
            "0    34\n",
            "1    33\n",
            "2    33\n",
            "Name: target, dtype: int64\n",
            "1    17\n",
            "2    17\n",
            "0    16\n",
            "Name: target, dtype: int64\n"
          ]
        }
      ],
      "source": [
        "n_iter =0\n",
        "for train_idx, test_idx in skf_iris.split(kfold_iris_data_df, kfold_iris_data_df['target']): # x값과 y값을 같이 넣어야 한다\n",
        "    n_iter+=1\n",
        "    train =kfold_iris_data_df['target'].iloc[train_idx]\n",
        "    test = kfold_iris_data_df['target'].iloc[test_idx]\n",
        "    print('교차검증 수 :{}'.format(n_iter))\n",
        "    print(train.value_counts())\n",
        "    print(test.value_counts())"
      ]
    },
    {
      "cell_type": "markdown",
      "metadata": {
        "id": "tRALHVuaX6Vv"
      },
      "source": [
        "- 평가지표 : accuracy precison, recall, f1-score, AUC \n",
        "- 평가지표는 대부분 디폴트가 이진 분류일 때 작동한다.\n",
        "- 예측값과 실제 값을 기반으로 T, F"
      ]
    },
    {
      "cell_type": "code",
      "execution_count": null,
      "metadata": {
        "id": "2ZkL8IwYX6Vw",
        "outputId": "d1f51d5e-70f2-4223-f73d-aef0575d7189",
        "colab": {
          "base_uri": "https://localhost:8080/"
        }
      },
      "outputs": [
        {
          "output_type": "stream",
          "name": "stdout",
          "text": [
            "\n",
            "1 교차검증정확도 : 0.98, 교차검증 precision 0.9815, 교차검증 recall 0.9792\n",
            "\n",
            "2 교차검증정확도 : 0.94, 교차검증 precision 0.9407, 교차검증 recall 0.9387\n",
            "\n",
            "3 교차검증정확도 : 0.98, 교차검증 precision 0.9815, 교차검증 recall 0.9804\n",
            "0.98 평균정확도!\n"
          ]
        }
      ],
      "source": [
        "skf_iris= StratifiedKFold(n_splits=3)\n",
        "fold_df_clf = DecisionTreeClassifier(random_state=111)\n",
        "cv_accuracy = []\n",
        "cv_precision = []\n",
        "cv_recall = []\n",
        "\n",
        "n_iter = 0 # 5번 진행\n",
        "for train_idx, test_idx in skf_iris.split(features, label):\n",
        "    X_train, X_test = features[train_idx], features[test_idx]\n",
        "    y_train, y_test = label[train_idx], label[test_idx]\n",
        "    # 학습 진행\n",
        "    fold_df_clf.fit(X_train, y_train)\n",
        "    # 예측값 도출\n",
        "    fold_pred = fold_df_clf.predict(X_test)\n",
        "    # 점수 도출\n",
        "    n_iter +=1 \n",
        "    accuracy = np.round(accuracy_score(y_test, fold_pred),4)\n",
        "    precision = np.round(precision_score(y_test, fold_pred, average='macro'),4)\n",
        "    recall = np.round(recall_score(y_test, fold_pred,average='macro'),4)\n",
        "    print('\\n{} 교차검증정확도 : {}, 교차검증 precision {}, 교차검증 recall {}'.format(n_iter, accuracy, precision, recall))\n",
        "    cv_accuracy.append(accuracy)\n",
        "    cv_precision.append(precision)\n",
        "    cv_recall.append(recall)\n",
        "    \n",
        "print(np.mean(accuracy),'평균정확도!') "
      ]
    },
    {
      "cell_type": "markdown",
      "metadata": {
        "id": "N6p34JbNX6Vw"
      },
      "source": [
        "만약 오류 뜨면 Target is multiclass but average='binary'. Please choose another average setting, one of [None, 'micro', 'macro', 'weighted'].\n",
        "\n",
        "- macro 지정 해줘야 함 : 평가하는 지표 방식을 선언\n"
      ]
    },
    {
      "cell_type": "markdown",
      "metadata": {
        "id": "s_X-omsxX6V0"
      },
      "source": [
        "## cross_val_score"
      ]
    },
    {
      "cell_type": "markdown",
      "metadata": {
        "id": "PbfDEb3fX6V1"
      },
      "source": [
        "skf, kf 상관없이 cross_val_score는 자동으로 다중분류인지 확인하고 처리해 줌\n",
        "1. 모델을 입력하는 순간 cross_val 분류인지 회귀인지 자동으로 확인해 준다.\n",
        "2. x, y값 넣으면 자동으로 클래스 불균형 확인해서 kf, skf 자동으로도 바꿔준다."
      ]
    },
    {
      "cell_type": "code",
      "execution_count": null,
      "metadata": {
        "id": "8NlhG8GhX6Vw",
        "outputId": "62ea6128-1ee0-4bf9-8cca-63bb7a7ffbee",
        "colab": {
          "base_uri": "https://localhost:8080/"
        }
      },
      "outputs": [
        {
          "output_type": "stream",
          "name": "stdout",
          "text": [
            "[0.9667 0.9667 0.9    0.9667 1.    ]\n"
          ]
        }
      ],
      "source": [
        "from sklearn.model_selection import cross_val_score, cross_validate\n",
        "fold_df_clf = DecisionTreeClassifier(random_state=111)\n",
        "scores = cross_val_score(fold_df_clf, features, label, scoring='accuracy',cv=5)\n",
        "print(np.round(scores,4))"
      ]
    },
    {
      "cell_type": "code",
      "execution_count": null,
      "metadata": {
        "id": "7th5unQIX6V1",
        "outputId": "06653e63-5012-4f9e-e85f-e6d1811dbeb1",
        "colab": {
          "base_uri": "https://localhost:8080/"
        }
      },
      "outputs": [
        {
          "output_type": "stream",
          "name": "stdout",
          "text": [
            "[0.9667 0.9667 0.9    0.9667 1.    ]\n"
          ]
        }
      ],
      "source": [
        "scores = cross_val_score(fold_df_clf, features, label, scoring='recall_macro',cv=5) # macro 지정!\n",
        "print(np.round(scores,4))"
      ]
    }
  ],
  "metadata": {
    "kernelspec": {
      "display_name": "Python 3",
      "language": "python",
      "name": "python3"
    },
    "language_info": {
      "codemirror_mode": {
        "name": "ipython",
        "version": 3
      },
      "file_extension": ".py",
      "mimetype": "text/x-python",
      "name": "python",
      "nbconvert_exporter": "python",
      "pygments_lexer": "ipython3",
      "version": "3.7.6"
    },
    "colab": {
      "provenance": [],
      "include_colab_link": true
    }
  },
  "nbformat": 4,
  "nbformat_minor": 0
}