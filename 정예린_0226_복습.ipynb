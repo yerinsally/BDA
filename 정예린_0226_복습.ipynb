{
  "cells": [
    {
      "cell_type": "markdown",
      "metadata": {
        "id": "view-in-github",
        "colab_type": "text"
      },
      "source": [
        "<a href=\"https://colab.research.google.com/github/yerinsally/BDA/blob/main/%EC%A0%95%EC%98%88%EB%A6%B0_0226_%EB%B3%B5%EC%8A%B5.ipynb\" target=\"_parent\"><img src=\"https://colab.research.google.com/assets/colab-badge.svg\" alt=\"Open In Colab\"/></a>"
      ]
    },
    {
      "cell_type": "markdown",
      "metadata": {
        "id": "Cw5G-PdtZu7X"
      },
      "source": [
        "## 정규표현식\n",
        "\n",
        "- relagr expression\n",
        "- 기존의 문자열 분석 함수를 이용해서 문자열 분석하는 경우가 대부분 \n",
        "- 정규표현식은 나만의 패턴, 규칙을 만들어서 문자열을 분석한다.\n",
        "  - 나만의 패턴, 규칙 : 특정상황에서 필요한 전처리\n",
        "\n",
        "### 정규표현식 찾는 대표 함수\n",
        "- match : 첫 인덱스에 내가 원하는 문자열이 없으면 끝\n",
        "- search : 전체에서 내가 원하는 문자열을 찾아줌\n"
      ]
    },
    {
      "cell_type": "code",
      "execution_count": null,
      "metadata": {
        "id": "bIbryfKXZu7s"
      },
      "outputs": [],
      "source": [
        "# 정규표현식 불러오기\n",
        "import re "
      ]
    },
    {
      "cell_type": "markdown",
      "metadata": {
        "id": "Xio17kTTZu70"
      },
      "source": [
        "re.match('패턴','문자열')\n",
        "- 맨 처음 인덱스에 본인이 원하는 문자열이 나오지 않으면 없다고 체크함"
      ]
    },
    {
      "cell_type": "code",
      "execution_count": null,
      "metadata": {
        "id": "CxDeVqMzZu73",
        "outputId": "62ec4cfa-74a3-44f5-c016-cf92c1f3b9fa",
        "colab": {
          "base_uri": "https://localhost:8080/"
        }
      },
      "outputs": [
        {
          "output_type": "execute_result",
          "data": {
            "text/plain": [
              "<re.Match object; span=(0, 5), match='Hello'>"
            ]
          },
          "metadata": {},
          "execution_count": 2
        }
      ],
      "source": [
        "re.match('Hello','Hello, Python, Hi, R')"
      ]
    },
    {
      "cell_type": "code",
      "execution_count": null,
      "metadata": {
        "id": "W7FznrxbZu78",
        "outputId": "9cd9e441-9a96-4d08-8624-284eff43f8da",
        "colab": {
          "base_uri": "https://localhost:8080/"
        }
      },
      "outputs": [
        {
          "output_type": "execute_result",
          "data": {
            "text/plain": [
              "<re.Match object; span=(0, 6), match='Python'>"
            ]
          },
          "metadata": {},
          "execution_count": 3
        }
      ],
      "source": [
        "# Python을 찾는 정규식\n",
        "re.match('Python','Python Hello, Hi, R')"
      ]
    },
    {
      "cell_type": "code",
      "execution_count": null,
      "metadata": {
        "id": "Tw577UOMZu7-",
        "outputId": "8467920b-4ca5-43ff-ece4-71b89697476c",
        "colab": {
          "base_uri": "https://localhost:8080/"
        }
      },
      "outputs": [
        {
          "output_type": "execute_result",
          "data": {
            "text/plain": [
              "<re.Match object; span=(0, 5), match='Hello'>"
            ]
          },
          "metadata": {},
          "execution_count": 4
        }
      ],
      "source": [
        "# 대소문자 일치해야 함\n",
        "re.match('Hello','Hello, Python')"
      ]
    },
    {
      "cell_type": "code",
      "execution_count": null,
      "metadata": {
        "id": "rH3rvvmGZu8A"
      },
      "outputs": [],
      "source": [
        "# 뒤에 있으면 찾지 못함\n",
        "re.match('hello','Python, hello') "
      ]
    },
    {
      "cell_type": "code",
      "execution_count": null,
      "metadata": {
        "id": "m99TQ0ZGZu8C",
        "outputId": "299ab62c-f531-43fc-e710-4771fc6d4c4d",
        "colab": {
          "base_uri": "https://localhost:8080/"
        }
      },
      "outputs": [
        {
          "output_type": "execute_result",
          "data": {
            "text/plain": [
              "<re.Match object; span=(8, 13), match='hello'>"
            ]
          },
          "metadata": {},
          "execution_count": 7
        }
      ],
      "source": [
        "# search는 찾아준다\n",
        "re.search('hello','Python, hello')"
      ]
    },
    {
      "cell_type": "markdown",
      "metadata": {
        "id": "ZaCjkQ-5Zu8E"
      },
      "source": [
        "### 정규식을 표현하는 방법\n",
        "- 쉽게 사용할 수 있는 정규표현식이 있다.\n",
        "- [0-9] 모든 숫자!\n",
        "- [0-9]*\n",
        "- [0-9]+\n",
        "\n",
        "*, + 차이 \n",
        "- *는 문자, 숫자가 0개 이상 있는지 확인\n",
        "- +는 문자, 숫자가 1개 이상 있는지 확인"
      ]
    },
    {
      "cell_type": "code",
      "execution_count": null,
      "metadata": {
        "id": "YWhKeCw8Zu8H"
      },
      "outputs": [],
      "source": [
        "# match는 못 찾음\n",
        "re.match('[0-9]','aaaaa12312486751313')"
      ]
    },
    {
      "cell_type": "code",
      "execution_count": null,
      "metadata": {
        "id": "FK5KMnjRZu8J",
        "outputId": "d93abb3f-0d0b-4692-841e-b16bd8e3cbbd",
        "colab": {
          "base_uri": "https://localhost:8080/"
        }
      },
      "outputs": [
        {
          "output_type": "execute_result",
          "data": {
            "text/plain": [
              "<re.Match object; span=(5, 6), match='1'>"
            ]
          },
          "metadata": {},
          "execution_count": 9
        }
      ],
      "source": [
        "re.search('[0-9]','aaaaa12312486751313')"
      ]
    },
    {
      "cell_type": "markdown",
      "metadata": {
        "id": "fPNwx_2MZu8L"
      },
      "source": [
        "모든 숫자를 찾고 싶은 경우?\n",
        "- ex. 전화번호를 추출 시 숫자를 다 가지고 와야할 때"
      ]
    },
    {
      "cell_type": "code",
      "execution_count": null,
      "metadata": {
        "id": "e-lBYU7ZZu8M",
        "outputId": "db550325-3ef5-4286-94f8-c15623e385f5",
        "colab": {
          "base_uri": "https://localhost:8080/"
        }
      },
      "outputs": [
        {
          "output_type": "execute_result",
          "data": {
            "text/plain": [
              "<re.Match object; span=(0, 1), match='0'>"
            ]
          },
          "metadata": {},
          "execution_count": 10
        }
      ],
      "source": [
        "re.match('[0-9]','01000000000')"
      ]
    },
    {
      "cell_type": "code",
      "execution_count": null,
      "metadata": {
        "id": "k3_NW6_xZu8O",
        "outputId": "23bef45b-0a45-47dd-8f6e-973d39f3f9ce",
        "colab": {
          "base_uri": "https://localhost:8080/"
        }
      },
      "outputs": [
        {
          "output_type": "execute_result",
          "data": {
            "text/plain": [
              "<re.Match object; span=(0, 11), match='01000000000'>"
            ]
          },
          "metadata": {},
          "execution_count": 11
        }
      ],
      "source": [
        "re.match('[0-9]*','01000000000')"
      ]
    },
    {
      "cell_type": "code",
      "execution_count": null,
      "metadata": {
        "id": "S9gik3UKZu8P",
        "outputId": "1a0a4592-7261-4d81-ddf6-7412c48d17df",
        "colab": {
          "base_uri": "https://localhost:8080/"
        }
      },
      "outputs": [
        {
          "output_type": "execute_result",
          "data": {
            "text/plain": [
              "<re.Match object; span=(0, 11), match='01000000000'>"
            ]
          },
          "metadata": {},
          "execution_count": 12
        }
      ],
      "source": [
        "re.match('[0-9]+','01000000000')"
      ]
    },
    {
      "cell_type": "code",
      "execution_count": null,
      "metadata": {
        "id": "Qm7cpyXgZu8Q",
        "outputId": "41a127cd-30db-444c-9e25-5231223e63f8",
        "colab": {
          "base_uri": "https://localhost:8080/"
        }
      },
      "outputs": [
        {
          "output_type": "execute_result",
          "data": {
            "text/plain": [
              "<re.Match object; span=(13, 24), match='01012345678'>"
            ]
          },
          "metadata": {},
          "execution_count": 13
        }
      ],
      "source": [
        "re.search('[0-9]+','홍길동 휴대전화번호 : 01012345678')"
      ]
    },
    {
      "cell_type": "markdown",
      "metadata": {
        "id": "BcOwyhLyZu8S"
      },
      "source": [
        "### 문자 수 판단하기\n",
        "- 문자가 정확히 몇 개 있는지\n",
        "- 문자{개수} / (문자열){개수}"
      ]
    },
    {
      "cell_type": "code",
      "execution_count": null,
      "metadata": {
        "id": "KgxM8M_KZu8V",
        "outputId": "c7c75637-a3c9-4dda-a7ae-9b7570c7f169",
        "colab": {
          "base_uri": "https://localhost:8080/"
        }
      },
      "outputs": [
        {
          "output_type": "execute_result",
          "data": {
            "text/plain": [
              "<re.Match object; span=(0, 5), match='hhhhh'>"
            ]
          },
          "metadata": {},
          "execution_count": 14
        }
      ],
      "source": [
        "# h 5개 찾을 때\n",
        "re.match('h{5}','hhhhhhhello') "
      ]
    },
    {
      "cell_type": "code",
      "execution_count": null,
      "metadata": {
        "id": "3HdtLKmbZu8X"
      },
      "outputs": [],
      "source": [
        "re.match('h{5}','ahhhhhhhello')"
      ]
    },
    {
      "cell_type": "code",
      "execution_count": null,
      "metadata": {
        "id": "V4H-GYlPZu8Z",
        "outputId": "840f9b9c-004a-41fb-dcef-ef97d1f1cc85",
        "colab": {
          "base_uri": "https://localhost:8080/"
        }
      },
      "outputs": [
        {
          "output_type": "execute_result",
          "data": {
            "text/plain": [
              "<re.Match object; span=(0, 6), match='hihihi'>"
            ]
          },
          "metadata": {},
          "execution_count": 16
        }
      ],
      "source": [
        "re.match('(hi){3}','hihihihello')"
      ]
    },
    {
      "cell_type": "markdown",
      "metadata": {
        "id": "0Hm_VB5NZu8b"
      },
      "source": [
        "전화번호 패턴 정규식 만들기\n",
        "- 000-0000-0000"
      ]
    },
    {
      "cell_type": "code",
      "execution_count": null,
      "metadata": {
        "id": "OP3XzcXeZu8d",
        "outputId": "8bccb9e7-061e-4b6c-e01c-a2e987e51155",
        "colab": {
          "base_uri": "https://localhost:8080/"
        }
      },
      "outputs": [
        {
          "output_type": "execute_result",
          "data": {
            "text/plain": [
              "<re.Match object; span=(0, 13), match='010-1234-5678'>"
            ]
          },
          "metadata": {},
          "execution_count": 17
        }
      ],
      "source": [
        "# 번호 3개 - 번호 4개 - 번호 4개 \n",
        "re.match('[0-9]{3}-[0-9]{4}-[0-9]{4}','010-1234-5678')"
      ]
    },
    {
      "cell_type": "code",
      "execution_count": null,
      "metadata": {
        "id": "8FKQFTrfZu8h",
        "outputId": "c2b1d677-a29f-4f5e-cdfe-c047eff69ebe",
        "colab": {
          "base_uri": "https://localhost:8080/"
        }
      },
      "outputs": [
        {
          "output_type": "execute_result",
          "data": {
            "text/plain": [
              "<re.Match object; span=(0, 18), match='010-1234-561234278'>"
            ]
          },
          "metadata": {},
          "execution_count": 18
        }
      ],
      "source": [
        "re.match('[0-9]*-[0-9]*-[0-9]*','010-1234-561234278')"
      ]
    },
    {
      "cell_type": "markdown",
      "metadata": {
        "id": "QQjPkjGlZu8j"
      },
      "source": [
        "영문, 한글 \n",
        "- 영문 : [a-z], [A-Z]\n",
        "- 한글 : [가-힣], [ㄱ-ㅎ], [ㅏ-ㅣ]"
      ]
    },
    {
      "cell_type": "code",
      "execution_count": null,
      "metadata": {
        "id": "M5d1NU8QZu8k",
        "outputId": "9702eaee-157d-49d7-d00b-c1da6ad04c7c",
        "colab": {
          "base_uri": "https://localhost:8080/"
        }
      },
      "outputs": [
        {
          "output_type": "execute_result",
          "data": {
            "text/plain": [
              "<re.Match object; span=(0, 5), match='asdfa'>"
            ]
          },
          "metadata": {},
          "execution_count": 19
        }
      ],
      "source": [
        "re.match('[a-z]*','asdfa@dasfef')"
      ]
    },
    {
      "cell_type": "code",
      "execution_count": null,
      "metadata": {
        "id": "O0070aMrZu8l",
        "outputId": "957af9c7-870e-4e1f-baa4-c37113649576",
        "colab": {
          "base_uri": "https://localhost:8080/"
        }
      },
      "outputs": [
        {
          "output_type": "execute_result",
          "data": {
            "text/plain": [
              "<re.Match object; span=(0, 10), match='1234ADSDFA'>"
            ]
          },
          "metadata": {},
          "execution_count": 20
        }
      ],
      "source": [
        "re.match('[a-zA-Z0-9]+','1234ADSDFA@dasfef')"
      ]
    },
    {
      "cell_type": "code",
      "execution_count": null,
      "metadata": {
        "id": "Rn6ZRgzYZu8m",
        "outputId": "a35c6dbb-6607-4d38-c0c8-337172373fb2",
        "colab": {
          "base_uri": "https://localhost:8080/"
        }
      },
      "outputs": [
        {
          "output_type": "execute_result",
          "data": {
            "text/plain": [
              "<re.Match object; span=(11, 16), match='서울특별시'>"
            ]
          },
          "metadata": {},
          "execution_count": 21
        }
      ],
      "source": [
        "re.search('[가-힣]+','sadfasefsa 서울특별시 1231')"
      ]
    },
    {
      "cell_type": "code",
      "execution_count": null,
      "metadata": {
        "id": "a1FGXBxFZu8p",
        "outputId": "7dbd5111-a1f7-426d-f80f-5a914059f20e",
        "colab": {
          "base_uri": "https://localhost:8080/"
        }
      },
      "outputs": [
        {
          "output_type": "execute_result",
          "data": {
            "text/plain": [
              "<re.Match object; span=(0, 5), match='서울특별시'>"
            ]
          },
          "metadata": {},
          "execution_count": 22
        }
      ],
      "source": [
        "re.search('[가-힣]*','서울특별시 1231')"
      ]
    }
  ],
  "metadata": {
    "kernelspec": {
      "display_name": "Python 3",
      "language": "python",
      "name": "python3"
    },
    "language_info": {
      "codemirror_mode": {
        "name": "ipython",
        "version": 3
      },
      "file_extension": ".py",
      "mimetype": "text/x-python",
      "name": "python",
      "nbconvert_exporter": "python",
      "pygments_lexer": "ipython3",
      "version": "3.7.6"
    },
    "colab": {
      "provenance": [],
      "include_colab_link": true
    }
  },
  "nbformat": 4,
  "nbformat_minor": 0
}